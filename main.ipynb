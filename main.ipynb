{
 "cells": [
  {
   "cell_type": "code",
   "execution_count": null,
   "metadata": {},
   "outputs": [],
   "source": [
    "import io\n",
    "import operator\n",
    "import re\n",
    "import nltk\n",
    "nltk.download('punkt')"
   ]
  },
  {
   "cell_type": "code",
   "execution_count": null,
   "metadata": {},
   "outputs": [],
   "source": [
    "f = io.open('D:\\\\src\\\\\\gh\\\\bdhrs-wf\\\\corpus\\\\an.txt', mode=\"r\", encoding=\"utf-16\")\n",
    "text = f.read()\n",
    "# Test\n",
    "# text = \"Arahā, arahattāya paṭipanno, anāgāmī, anāgāmiphalasacchikiriyāya paṭipanno, sakadāgāmī, sakadāgāmiphalasacchikiriyāya paṭipanno, sotāpanno, sotāpattiphalasacchikiriyāya paṭipanno, puthujjano—\"\n",
    "\n",
    "# words = nltk.tokenize.word_tokenize(text)\n",
    "words = nltk.regexp_tokenize(text, r'(?:(?!\\d)[^\\u0000-\\u007F]“)+|\\S+', gaps=False)\n",
    "fdist1 = nltk.FreqDist(words)\n"
   ]
  },
  {
   "cell_type": "code",
   "execution_count": null,
   "metadata": {},
   "outputs": [],
   "source": [
    "fdist1 = nltk.FreqDist(words).most_common(2000)\n",
    "[print(w) for w in fdist1 if not re.match(r\"^\\d+$\", w[0])]\n"
   ]
  },
  {
   "cell_type": "code",
   "execution_count": null,
   "metadata": {},
   "outputs": [],
   "source": []
  }
 ],
 "metadata": {
  "kernelspec": {
   "display_name": "Python 3",
   "language": "python",
   "name": "python3"
  },
  "language_info": {
   "codemirror_mode": {
    "name": "ipython",
    "version": 3
   },
   "file_extension": ".py",
   "mimetype": "text/x-python",
   "name": "python",
   "nbconvert_exporter": "python",
   "pygments_lexer": "ipython3",
   "version": "3.7.2"
  }
 },
 "nbformat": 4,
 "nbformat_minor": 4
}
